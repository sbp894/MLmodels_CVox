{
 "cells": [
  {
   "cell_type": "markdown",
   "metadata": {},
   "source": [
    "Load required packages "
   ]
  },
  {
   "cell_type": "code",
   "execution_count": 2,
   "metadata": {},
   "outputs": [],
   "source": [
    "import os \n",
    "import numpy as np \n",
    "import h5py\n",
    "import scipy.io\n",
    "import matlab_helpers as mh \n",
    "import tensorflow as tf "
   ]
  },
  {
   "cell_type": "markdown",
   "metadata": {},
   "source": [
    "Read the names of all mat-files "
   ]
  },
  {
   "cell_type": "code",
   "execution_count": 3,
   "metadata": {},
   "outputs": [
    {
     "name": "stdout",
     "output_type": "stream",
     "text": [
      "--> all_files_nameonly: len lines= 1605, first line = ds_Chut_2_Feb_07_2022_51861688_ms_101198_101787.mat\n",
      "--> dsMPS_data_list: len lines= 1605, first line = D:/Dropbox/Python/MLmodels/Datasets/mps_gp_sgram/level65_dBspl_clean_ds/Chut/ds_Chut_2_Feb_07_2022_51861688_ms_101198_101787.mat\n"
     ]
    }
   ],
   "source": [
    "root_matdata_dir = 'D:/Dropbox/Python/MLmodels/Datasets/mps_gp_sgram/'\n",
    "out_ml_dir = root_matdata_dir + 'ml_data_CNN/'\n",
    "if not os.path.exists(out_ml_dir):\n",
    "    os.makedirs(out_ml_dir)\n",
    "\n",
    "clean_in_data_dir = root_matdata_dir + 'level65_dBspl_clean_ds/'\n",
    "valid_datadirs = ['Chut', 'HighWhistle', 'Rumble', 'Tchatter', 'Wheek', 'Whine']\n",
    "calls2use = ['Chut', 'Rumble', 'Wheek', 'Whine']\n",
    "\n",
    "all_files_nameonly= []\n",
    "dsMPS_data_list= []\n",
    "\n",
    "for cur_call_dir in valid_datadirs:\n",
    "    cur_call_path = clean_in_data_dir + cur_call_dir + '/' \n",
    "    # print(cur_call_path)\n",
    "    cur_dir_files = [f for f in os.listdir(cur_call_path) if os.path.isfile(os.path.join(cur_call_path, f))]\n",
    "    all_files_nameonly = all_files_nameonly + cur_dir_files\n",
    "    dsMPS_data_list = dsMPS_data_list + [cur_call_path + f for f in cur_dir_files]\n",
    "    \n",
    "\n",
    "print(f\"--> all_files_nameonly: len lines= {len(all_files_nameonly)}, first line = {all_files_nameonly[0]}\")\n",
    "print(f\"--> dsMPS_data_list: len lines= {len(dsMPS_data_list)}, first line = {dsMPS_data_list[0]}\")\n",
    "\n",
    "out_allfiles_txt_fname = out_ml_dir + 'all_dsMPS_data_list.txt'\n",
    "with open(out_allfiles_txt_fname, 'w') as f:\n",
    "    for line in dsMPS_data_list:\n",
    "        f.write(f\"{line}\\n\")"
   ]
  },
  {
   "cell_type": "markdown",
   "metadata": {},
   "source": [
    "Read Mat files and then create .h5 files for training "
   ]
  },
  {
   "cell_type": "code",
   "execution_count": 5,
   "metadata": {},
   "outputs": [
    {
     "name": "stdout",
     "output_type": "stream",
     "text": [
      "iter=0 with file=D:/Dropbox/Python/MLmodels/Datasets/mps_gp_sgram/level65_dBspl_clean_ds/Chut/ds_Chut_2_Feb_07_2022_51861688_ms_101198_101787.mat\n",
      "iter=100 with file=D:/Dropbox/Python/MLmodels/Datasets/mps_gp_sgram/level65_dBspl_clean_ds/Chut/ds_Chut_2_Feb_09_2022_59003176_ms_28805_29568.mat\n",
      "iter=200 with file=D:/Dropbox/Python/MLmodels/Datasets/mps_gp_sgram/level65_dBspl_clean_ds/Chut/ds_Chut_2_Mar_16_2022_50426XXX_ms_43550_44535.mat\n",
      "iter=300 with file=D:/Dropbox/Python/MLmodels/Datasets/mps_gp_sgram/level65_dBspl_clean_ds/Chut/ds_Chut_3_Feb_09_2022_57194776_ms_91370_91831.mat\n",
      "iter=400 with file=D:/Dropbox/Python/MLmodels/Datasets/mps_gp_sgram/level65_dBspl_clean_ds/Chut/ds_Chut_3_Feb_11_2022_60915798_ms_94915_95837.mat\n"
     ]
    },
    {
     "ename": "KeyboardInterrupt",
     "evalue": "",
     "output_type": "error",
     "traceback": [
      "\u001b[1;31m---------------------------------------------------------------------------\u001b[0m",
      "\u001b[1;31mKeyboardInterrupt\u001b[0m                         Traceback (most recent call last)",
      "Cell \u001b[1;32mIn [5], line 7\u001b[0m\n\u001b[0;32m      4\u001b[0m post_search_str \u001b[39m=\u001b[39m \u001b[39m'\u001b[39m\u001b[39m/ds\u001b[39m\u001b[39m'\u001b[39m \n\u001b[0;32m      6\u001b[0m \u001b[39mfor\u001b[39;00m fName,\u001b[39miter\u001b[39m \u001b[39min\u001b[39;00m \u001b[39mzip\u001b[39m(dsMPS_data_list,np\u001b[39m.\u001b[39marange(\u001b[39mlen\u001b[39m(dsMPS_data_list))):\n\u001b[1;32m----> 7\u001b[0m     data \u001b[39m=\u001b[39m mh\u001b[39m.\u001b[39;49mloadmat(fName)\n\u001b[0;32m      8\u001b[0m     data_dsMPS_x\u001b[39m.\u001b[39mappend(data[\u001b[39m\"\u001b[39m\u001b[39mmps_struct\u001b[39m\u001b[39m\"\u001b[39m][\u001b[39m\"\u001b[39m\u001b[39mmps_pow_dB\u001b[39m\u001b[39m\"\u001b[39m]) \n\u001b[0;32m      9\u001b[0m     \u001b[39mif\u001b[39;00m \u001b[39miter\u001b[39m \u001b[39m%\u001b[39m \u001b[39m100\u001b[39m \u001b[39m==\u001b[39m \u001b[39m0\u001b[39m:\n",
      "File \u001b[1;32md:\\Dropbox\\Python\\MLmodels\\Code\\matlab_helpers.py:10\u001b[0m, in \u001b[0;36mloadmat\u001b[1;34m(filename)\u001b[0m\n\u001b[0;32m      3\u001b[0m \u001b[39mdef\u001b[39;00m \u001b[39mloadmat\u001b[39m(filename):\n\u001b[0;32m      4\u001b[0m     \u001b[39m'''\u001b[39;00m\n\u001b[0;32m      5\u001b[0m \u001b[39m    this function should be called instead of direct spio.loadmat\u001b[39;00m\n\u001b[0;32m      6\u001b[0m \u001b[39m    as it cures the problem of not properly recovering python dictionaries\u001b[39;00m\n\u001b[0;32m      7\u001b[0m \u001b[39m    from mat files. It calls the function check keys to cure all entries\u001b[39;00m\n\u001b[0;32m      8\u001b[0m \u001b[39m    which are still mat-objects\u001b[39;00m\n\u001b[0;32m      9\u001b[0m \u001b[39m    '''\u001b[39;00m\n\u001b[1;32m---> 10\u001b[0m     data \u001b[39m=\u001b[39m spio\u001b[39m.\u001b[39;49mloadmat(filename, struct_as_record\u001b[39m=\u001b[39;49m\u001b[39mFalse\u001b[39;49;00m, squeeze_me\u001b[39m=\u001b[39;49m\u001b[39mTrue\u001b[39;49;00m)\n\u001b[0;32m     11\u001b[0m     \u001b[39mreturn\u001b[39;00m _check_keys(data)\n",
      "File \u001b[1;32mc:\\Users\\spsat\\anaconda3\\envs\\tf-gpu\\lib\\site-packages\\scipy\\io\\matlab\\_mio.py:226\u001b[0m, in \u001b[0;36mloadmat\u001b[1;34m(file_name, mdict, appendmat, **kwargs)\u001b[0m\n\u001b[0;32m    224\u001b[0m \u001b[39mwith\u001b[39;00m _open_file_context(file_name, appendmat) \u001b[39mas\u001b[39;00m f:\n\u001b[0;32m    225\u001b[0m     MR, _ \u001b[39m=\u001b[39m mat_reader_factory(f, \u001b[39m*\u001b[39m\u001b[39m*\u001b[39mkwargs)\n\u001b[1;32m--> 226\u001b[0m     matfile_dict \u001b[39m=\u001b[39m MR\u001b[39m.\u001b[39;49mget_variables(variable_names)\n\u001b[0;32m    228\u001b[0m \u001b[39mif\u001b[39;00m mdict \u001b[39mis\u001b[39;00m \u001b[39mnot\u001b[39;00m \u001b[39mNone\u001b[39;00m:\n\u001b[0;32m    229\u001b[0m     mdict\u001b[39m.\u001b[39mupdate(matfile_dict)\n",
      "File \u001b[1;32mc:\\Users\\spsat\\anaconda3\\envs\\tf-gpu\\lib\\site-packages\\scipy\\io\\matlab\\_mio5.py:332\u001b[0m, in \u001b[0;36mMatFile5Reader.get_variables\u001b[1;34m(self, variable_names)\u001b[0m\n\u001b[0;32m    330\u001b[0m     \u001b[39mcontinue\u001b[39;00m\n\u001b[0;32m    331\u001b[0m \u001b[39mtry\u001b[39;00m:\n\u001b[1;32m--> 332\u001b[0m     res \u001b[39m=\u001b[39m \u001b[39mself\u001b[39;49m\u001b[39m.\u001b[39;49mread_var_array(hdr, process)\n\u001b[0;32m    333\u001b[0m \u001b[39mexcept\u001b[39;00m MatReadError \u001b[39mas\u001b[39;00m err:\n\u001b[0;32m    334\u001b[0m     warnings\u001b[39m.\u001b[39mwarn(\n\u001b[0;32m    335\u001b[0m         \u001b[39m'\u001b[39m\u001b[39mUnreadable variable \u001b[39m\u001b[39m\"\u001b[39m\u001b[39m%s\u001b[39;00m\u001b[39m\"\u001b[39m\u001b[39m, because \u001b[39m\u001b[39m\"\u001b[39m\u001b[39m%s\u001b[39;00m\u001b[39m\"\u001b[39m\u001b[39m'\u001b[39m \u001b[39m%\u001b[39m\n\u001b[0;32m    336\u001b[0m         (name, err),\n\u001b[0;32m    337\u001b[0m         \u001b[39mWarning\u001b[39;00m, stacklevel\u001b[39m=\u001b[39m\u001b[39m2\u001b[39m)\n",
      "File \u001b[1;32mc:\\Users\\spsat\\anaconda3\\envs\\tf-gpu\\lib\\site-packages\\scipy\\io\\matlab\\_mio5.py:292\u001b[0m, in \u001b[0;36mMatFile5Reader.read_var_array\u001b[1;34m(self, header, process)\u001b[0m\n\u001b[0;32m    275\u001b[0m \u001b[39mdef\u001b[39;00m \u001b[39mread_var_array\u001b[39m(\u001b[39mself\u001b[39m, header, process\u001b[39m=\u001b[39m\u001b[39mTrue\u001b[39;00m):\n\u001b[0;32m    276\u001b[0m     \u001b[39m''' Read array, given `header`\u001b[39;00m\n\u001b[0;32m    277\u001b[0m \n\u001b[0;32m    278\u001b[0m \u001b[39m    Parameters\u001b[39;00m\n\u001b[1;32m   (...)\u001b[0m\n\u001b[0;32m    290\u001b[0m \u001b[39m       `process`.\u001b[39;00m\n\u001b[0;32m    291\u001b[0m \u001b[39m    '''\u001b[39;00m\n\u001b[1;32m--> 292\u001b[0m     \u001b[39mreturn\u001b[39;00m \u001b[39mself\u001b[39;49m\u001b[39m.\u001b[39;49m_matrix_reader\u001b[39m.\u001b[39;49marray_from_header(header, process)\n",
      "File \u001b[1;32m_mio5_utils.pyx:671\u001b[0m, in \u001b[0;36mscipy.io.matlab._mio5_utils.VarReader5.array_from_header\u001b[1;34m()\u001b[0m\n",
      "File \u001b[1;32m_mio5_utils.pyx:719\u001b[0m, in \u001b[0;36mscipy.io.matlab._mio5_utils.VarReader5.array_from_header\u001b[1;34m()\u001b[0m\n",
      "File \u001b[1;32m_mio5_utils.pyx:972\u001b[0m, in \u001b[0;36mscipy.io.matlab._mio5_utils.VarReader5.read_struct\u001b[1;34m()\u001b[0m\n",
      "File \u001b[1;32m_mio5_utils.pyx:669\u001b[0m, in \u001b[0;36mscipy.io.matlab._mio5_utils.VarReader5.read_mi_matrix\u001b[1;34m()\u001b[0m\n",
      "File \u001b[1;32m_mio5_utils.pyx:719\u001b[0m, in \u001b[0;36mscipy.io.matlab._mio5_utils.VarReader5.array_from_header\u001b[1;34m()\u001b[0m\n",
      "File \u001b[1;32m_mio5_utils.pyx:972\u001b[0m, in \u001b[0;36mscipy.io.matlab._mio5_utils.VarReader5.read_struct\u001b[1;34m()\u001b[0m\n",
      "File \u001b[1;32m_mio5_utils.pyx:669\u001b[0m, in \u001b[0;36mscipy.io.matlab._mio5_utils.VarReader5.read_mi_matrix\u001b[1;34m()\u001b[0m\n",
      "File \u001b[1;32m_mio5_utils.pyx:717\u001b[0m, in \u001b[0;36mscipy.io.matlab._mio5_utils.VarReader5.array_from_header\u001b[1;34m()\u001b[0m\n",
      "File \u001b[1;32m_mio5_utils.pyx:891\u001b[0m, in \u001b[0;36mscipy.io.matlab._mio5_utils.VarReader5.read_cells\u001b[1;34m()\u001b[0m\n",
      "File \u001b[1;32m_mio5_utils.pyx:669\u001b[0m, in \u001b[0;36mscipy.io.matlab._mio5_utils.VarReader5.read_mi_matrix\u001b[1;34m()\u001b[0m\n",
      "File \u001b[1;32m_mio5_utils.pyx:741\u001b[0m, in \u001b[0;36mscipy.io.matlab._mio5_utils.VarReader5.array_from_header\u001b[1;34m()\u001b[0m\n",
      "File \u001b[1;32m_mio_utils.pyx:11\u001b[0m, in \u001b[0;36mscipy.io.matlab._mio_utils.squeeze_element\u001b[1;34m()\u001b[0m\n",
      "File \u001b[1;32m_mio_utils.pyx:18\u001b[0m, in \u001b[0;36mscipy.io.matlab._mio_utils.squeeze_element\u001b[1;34m()\u001b[0m\n",
      "File \u001b[1;32m<__array_function__ internals>:177\u001b[0m, in \u001b[0;36msqueeze\u001b[1;34m(*args, **kwargs)\u001b[0m\n",
      "\u001b[1;31mKeyboardInterrupt\u001b[0m: "
     ]
    }
   ],
   "source": [
    "out_dsMPS_data_file = out_ml_dir + 'all_dsMPS_data.h5'\n",
    "data_dsMPS_x = []\n",
    "pre_search_str = '_ds/'\n",
    "post_search_str = '/ds' \n",
    "\n",
    "for fName,iter in zip(dsMPS_data_list,np.arange(len(dsMPS_data_list))):\n",
    "    data = mh.loadmat(fName)\n",
    "    cur_data = data[\"mps_struct\"][\"mps_pow_dB\"]\n",
    "    data_dsMPS_x.append(cur_data) \n",
    "    if iter % 100 == 0:\n",
    "        print(f\"iter={iter} with file={fName}: size={cur_data.shape}\")\n",
    "    \n",
    "    \n",
    "data_label_name = [item[item.rfind(pre_search_str)+len(pre_search_str):item.rfind(post_search_str)] for item in dsMPS_data_list]\n",
    "data_label_y = len(calls2use)*np.ones((len(data_dsMPS_x),1))\n",
    "unq_vals, unq_counts = np.unique(data_label_y, return_counts=True)\n",
    "print(dict(zip(unq_vals,unq_counts)))\n",
    "\n",
    "for ind, cur_call in zip(np.arange(len(data_label_name)),data_label_name):\n",
    "    if cur_call in calls2use: \n",
    "        data_label_y[ind,0] = calls2use.index(cur_call)\n",
    "\n",
    "data_dsMPS_x = np.array(data_dsMPS_x)\n",
    "data_label_y = np.array(data_label_y).astype(int)\n",
    "print(f\"data_dsMPS_x={type(data_dsMPS_x)}&{len(data_dsMPS_x)},data_label_y={type(data_label_y)}&{data_label_y.shape},\")\n",
    "\n",
    "if (not os.path.exists(out_dsMPS_data_file)):\n",
    "    print(\"Saving file\" + out_dsMPS_data_file)\n",
    "    hf = h5py.File(out_dsMPS_data_file, \"w\")\n",
    "    hf.create_dataset('data_dsMPS_x',data=data_dsMPS_x)\n",
    "    hf.create_dataset('data_label_y',data=data_label_y)\n",
    "    hf.close()\n",
    "else: \n",
    "    print(\"File (\" + out_dsMPS_data_file + \") already exists\")\n",
    "\n",
    "\n"
   ]
  }
 ],
 "metadata": {
  "kernelspec": {
   "display_name": "Python 3.7.13 ('tf')",
   "language": "python",
   "name": "python3"
  },
  "language_info": {
   "codemirror_mode": {
    "name": "ipython",
    "version": 3
   },
   "file_extension": ".py",
   "mimetype": "text/x-python",
   "name": "python",
   "nbconvert_exporter": "python",
   "pygments_lexer": "ipython3",
   "version": "3.7.13"
  },
  "orig_nbformat": 4,
  "vscode": {
   "interpreter": {
    "hash": "c728683615649ae6024bdf2b54a6d3b0d13aadd4e771e3670de23ca9a3f30dd7"
   }
  }
 },
 "nbformat": 4,
 "nbformat_minor": 2
}
