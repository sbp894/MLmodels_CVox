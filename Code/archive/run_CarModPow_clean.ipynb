{
 "cells": [
  {
   "cell_type": "markdown",
   "metadata": {},
   "source": [
    "# Code for training an MLP to classify calls using [Carrier X Modultion] power \n",
    "Steps to follow \n",
    "* Load required packages \n",
    "* Read all mat-files \n",
    "* Add labels (call names)\n",
    "* Split into train/test datasets\n",
    "* Create batches for training \n",
    "* Define model \n",
    "* Train model \n",
    "* Test model and report accuracy "
   ]
  },
  {
   "cell_type": "code",
   "execution_count": 57,
   "metadata": {},
   "outputs": [],
   "source": [
    "import os \n",
    "import numpy as np \n",
    "import h5py\n",
    "import scipy.io\n",
    "import matlab_helpers as mh \n",
    "from keras.utils import to_categorical, Sequence\n",
    "from sklearn.utils import shuffle\n",
    "from sklearn.model_selection import train_test_split\n",
    "import tensorflow as tf \n",
    "from tensorflow.keras.models import Sequential\n",
    "from tensorflow.keras.layers import Dense\n",
    "from sklearn.model_selection import train_test_split\n",
    "from sklearn.preprocessing import MinMaxScaler"
   ]
  },
  {
   "cell_type": "markdown",
   "metadata": {},
   "source": [
    "## Read the names of all mat-files "
   ]
  },
  {
   "cell_type": "code",
   "execution_count": 58,
   "metadata": {},
   "outputs": [
    {
     "name": "stdout",
     "output_type": "stream",
     "text": [
      "--> all_files_nameonly: len lines= 1605, first line = CarMod_psd_Chut_2_Feb_07_2022_51861688_ms_101198_101787.mat\n",
      "--> CarModPow_data_list: len lines= 1605, first line = D:/Dropbox/Python/MLmodels/Datasets/CarModPow/level65_dBspl_clean/Chut/CarMod_psd_Chut_2_Feb_07_2022_51861688_ms_101198_101787.mat\n"
     ]
    }
   ],
   "source": [
    "root_matdata_dir = 'D:/Dropbox/Python/MLmodels/Datasets/CarModPow/'\n",
    "out_ml_dir = root_matdata_dir + 'ml_data/'\n",
    "if not os.path.exists(out_ml_dir):\n",
    "    os.makedirs(out_ml_dir)\n",
    "\n",
    "clean_in_data_dir = root_matdata_dir + 'level65_dBspl_clean/'\n",
    "valid_datadirs = ['Chut', 'HighWhistle', 'Rumble', 'Tchatter', 'Wheek', 'Whine']\n",
    "calls2use = ['Chut', 'Rumble', 'Wheek', 'Whine']\n",
    "\n",
    "all_files_nameonly= []\n",
    "CarModPow_data_list= []\n",
    "\n",
    "for cur_call_dir in valid_datadirs:\n",
    "    cur_call_path = clean_in_data_dir + cur_call_dir + '/' \n",
    "    # print(cur_call_path)\n",
    "    cur_dir_files = [f for f in os.listdir(cur_call_path) if os.path.isfile(os.path.join(cur_call_path, f))]\n",
    "    all_files_nameonly = all_files_nameonly + cur_dir_files\n",
    "    CarModPow_data_list = CarModPow_data_list + [cur_call_path + f for f in cur_dir_files]\n",
    "    \n",
    "\n",
    "print(f\"--> all_files_nameonly: len lines= {len(all_files_nameonly)}, first line = {all_files_nameonly[0]}\")\n",
    "print(f\"--> CarModPow_data_list: len lines= {len(CarModPow_data_list)}, first line = {CarModPow_data_list[0]}\")\n",
    "\n",
    "out_allfiles_txt_fname = out_ml_dir + 'CarMod_data_list.npy'\n",
    "np.save(out_allfiles_txt_fname, CarModPow_data_list)\n",
    "\n",
    "with open(out_allfiles_txt_fname, 'w') as f:\n",
    "    for line in CarModPow_data_list:\n",
    "        f.write(f\"{line}\\n\")\n",
    "\n",
    "# qq = np.ravel(mh.loadmat(CarModPow_data_list[0])[\"CarMod_power\"][\"CarMod_power\"])\n",
    "# print(qq.shape)"
   ]
  },
  {
   "cell_type": "markdown",
   "metadata": {},
   "source": [
    "This time, let's not read all mat-files because the files would be huge. Instead, we save training, validation filenames and load data in minibatches. "
   ]
  },
  {
   "cell_type": "code",
   "execution_count": 59,
   "metadata": {},
   "outputs": [
    {
     "name": "stdout",
     "output_type": "stream",
     "text": [
      "{4.0: 1605}\n"
     ]
    }
   ],
   "source": [
    "pre_search_str = 'clean/'\n",
    "post_search_str = '/CarMod'\n",
    "\n",
    "    \n",
    "data_label_name = [item[item.rfind(pre_search_str)+len(pre_search_str):item.rfind(post_search_str)] for item in CarModPow_data_list]\n",
    "data_label_y = len(calls2use)*np.ones((len(data_label_name),1))\n",
    "unq_vals, unq_counts = np.unique(data_label_y, return_counts=True)\n",
    "print(dict(zip(unq_vals,unq_counts)))\n",
    "\n",
    "for ind, cur_call in zip(np.arange(len(data_label_name)),data_label_name):\n",
    "    if cur_call in calls2use: \n",
    "        data_label_y[ind,0] = calls2use.index(cur_call)\n",
    "\n",
    "CarMod_data_label = np.array(data_label_y).astype(int)\n",
    "CarMod_data_label_oh= to_categorical(CarMod_data_label)\n",
    "\n",
    "out_allfiles_txt_label = out_ml_dir + 'CarMod_data_label.npy'\n",
    "out_allfiles_txt_label_oh = out_ml_dir + 'CarMod_data_label_onehot.npy'\n",
    "np.save(out_allfiles_txt_label, CarMod_data_label)\n",
    "np.save(out_allfiles_txt_label_oh, CarMod_data_label_oh)\n"
   ]
  },
  {
   "cell_type": "markdown",
   "metadata": {},
   "source": [
    "Let's create file/label lists with shuffeld indices. "
   ]
  },
  {
   "cell_type": "code",
   "execution_count": 60,
   "metadata": {},
   "outputs": [
    {
     "name": "stdout",
     "output_type": "stream",
     "text": [
      "[[0]\n",
      " [2]\n",
      " [4]\n",
      " [0]]\n",
      "['D:/Dropbox/Python/MLmodels/Datasets/CarModPow/level65_dBspl_clean/Chut/CarMod_psd_Chut_3_Feb_11_2022_58942456_ms_37472_37803.mat', 'D:/Dropbox/Python/MLmodels/Datasets/CarModPow/level65_dBspl_clean/Wheek/CarMod_psd_Wheek_2_Mar_20_2022_55617305_ms_31113_32067.mat', 'D:/Dropbox/Python/MLmodels/Datasets/CarModPow/level65_dBspl_clean/HighWhistle/CarMod_psd_HighWhistle_2_Mar_16_2022_50426XXX_ms_12733_13508.mat', 'D:/Dropbox/Python/MLmodels/Datasets/CarModPow/level65_dBspl_clean/Chut/CarMod_psd_Chut_3_Mar_14_2022_54636590_ms_127_1340.mat']\n"
     ]
    }
   ],
   "source": [
    "CarMod_data_list_shuffled, CarMod_data_label_shuffled = shuffle(CarModPow_data_list, CarMod_data_label)\n",
    "out_allfiles_txt_label_shuffled = out_ml_dir + 'all_CarMod_data_label_shuffled.npy'\n",
    "out_allfiles_txt_label_oh_shuffled = out_ml_dir + 'all_CarMod_data_label_onehot_shuffled.npy'\n",
    "np.save(out_allfiles_txt_label_shuffled, CarMod_data_label_shuffled)\n",
    "np.save(out_allfiles_txt_label_oh_shuffled, CarMod_data_list_shuffled)\n",
    "\n",
    "print(CarMod_data_label_shuffled[0:4])\n",
    "print(CarMod_data_list_shuffled[0:4])\n"
   ]
  },
  {
   "cell_type": "markdown",
   "metadata": {},
   "source": [
    "Now let's split the data into train/\"validation\" (Note: test for now, will make it train/dev/test later)"
   ]
  },
  {
   "cell_type": "code",
   "execution_count": 61,
   "metadata": {},
   "outputs": [
    {
     "name": "stdout",
     "output_type": "stream",
     "text": [
      "D:/Dropbox/Python/MLmodels/Datasets/CarModPow/level65_dBspl_clean/Chut/CarMod_psd_Chut_3_Feb_11_2022_58942456_ms_37472_37803.mat\n",
      "(1284,)\n",
      "(1284, 1)\n",
      "(321,)\n",
      "(321, 1)\n"
     ]
    }
   ],
   "source": [
    "CarMod_data_list_shuffled_numpy = np.array(CarMod_data_list_shuffled)\n",
    "print(CarMod_data_list_shuffled_numpy[0])\n",
    "\n",
    "X_train_filenames, X_val_filenames, y_train, y_val = train_test_split(\n",
    "    CarMod_data_list_shuffled_numpy, CarMod_data_label_shuffled, test_size=0.2, random_state=1)\n",
    "\n",
    "print(X_train_filenames.shape) # (1284,)\n",
    "print(y_train.shape)           # (1284, 5)\n",
    "\n",
    "print(X_val_filenames.shape)   # (321,)\n",
    "print(y_val.shape)             # (321, 5)\n",
    "\n",
    "# You can save these files as well. As you will be using them later for training and validation of your model.\n",
    "out_dir = root_matdata_dir + 'ml_data/'\n",
    "np.save(out_dir + 'X_train_filenames.npy', X_train_filenames)\n",
    "np.save(out_dir + 'y_train.npy', y_train)\n",
    "\n",
    "np.save(out_dir + 'X_val_filenames.npy', X_val_filenames)\n",
    "np.save(out_dir + 'y_val.npy', y_val)"
   ]
  },
  {
   "cell_type": "markdown",
   "metadata": {},
   "source": [
    "Now let's create batches of data because all images are too big to fit in memory"
   ]
  },
  {
   "cell_type": "code",
   "execution_count": 62,
   "metadata": {},
   "outputs": [],
   "source": [
    "class My_Custom_Generator(Sequence):\n",
    "  \n",
    "  def __init__(self, CarMod_filenames, labels, batch_size) :\n",
    "    self.CarMod_filenames = CarMod_filenames\n",
    "    self.labels = labels\n",
    "    self.batch_size = batch_size\n",
    "    \n",
    "    \n",
    "  def __len__(self) :\n",
    "    return (np.ceil(len(self.CarMod_filenames) / float(self.batch_size))).astype(np.int)\n",
    "  \n",
    "  \n",
    "  def __getitem__(self, idx) :\n",
    "    batch_x = self.CarMod_filenames[idx * self.batch_size : (idx+1) * self.batch_size]\n",
    "    batch_y = self.labels[idx * self.batch_size : (idx+1) * self.batch_size]\n",
    "    \n",
    "    return np.array( [np.ravel(mh.loadmat(X_train_filenames[0])[\"CarMod_power\"][\"CarMod_power\"]) for file_name in batch_x]), np.array(batch_y)\n",
    "\n",
    "batch_size = 32 \n",
    "my_training_batch_generator = My_Custom_Generator(X_train_filenames, y_train, batch_size)\n",
    "my_validation_batch_generator = My_Custom_Generator(X_val_filenames, y_val, batch_size)\n"
   ]
  },
  {
   "cell_type": "markdown",
   "metadata": {},
   "source": [
    "Let's define the model! "
   ]
  },
  {
   "cell_type": "code",
   "execution_count": 63,
   "metadata": {},
   "outputs": [
    {
     "name": "stdout",
     "output_type": "stream",
     "text": [
      "(None, 5)\n",
      "Model: \"sequential_10\"\n",
      "_________________________________________________________________\n",
      " Layer (type)                Output Shape              Param #   \n",
      "=================================================================\n",
      " L1 (Dense)                  (None, 5)                 3020      \n",
      "                                                                 \n",
      " L2 (Dense)                  (None, 5)                 30        \n",
      "                                                                 \n",
      "=================================================================\n",
      "Total params: 3,050\n",
      "Trainable params: 3,050\n",
      "Non-trainable params: 0\n",
      "_________________________________________________________________\n"
     ]
    }
   ],
   "source": [
    "tf.random.set_seed(1234)  # applied to achieve consistent results\n",
    "NNmodel = Sequential()\n",
    "NNmodel.add(tf.keras.Input(shape=(603,)))\n",
    "NNmodel.add(Dense(5, activation = 'relu',   name = \"L1\"))\n",
    "NNmodel.add(Dense(5, activation = 'linear',   name = \"L2\"))\n",
    "\n",
    "# Compile the model \n",
    "NNmodel.compile(\n",
    "    loss=tf.keras.losses.SparseCategoricalCrossentropy(from_logits=True),\n",
    "    optimizer=tf.keras.optimizers.Adam(0.01),\n",
    ")\n",
    "print(NNmodel.output_shape)\n",
    "NNmodel.summary()\n",
    "\n"
   ]
  },
  {
   "cell_type": "markdown",
   "metadata": {},
   "source": [
    "Let's train the model "
   ]
  },
  {
   "cell_type": "code",
   "execution_count": 64,
   "metadata": {},
   "outputs": [
    {
     "name": "stderr",
     "output_type": "stream",
     "text": [
      "C:\\Users\\spsat\\AppData\\Local\\Temp\\ipykernel_23148\\1059629396.py:1: UserWarning: `Model.fit_generator` is deprecated and will be removed in a future version. Please use `Model.fit`, which supports generators.\n",
      "  NNmodel.fit_generator(generator=my_training_batch_generator,\n",
      "C:\\Users\\spsat\\AppData\\Local\\Temp\\ipykernel_23148\\16413379.py:10: DeprecationWarning: `np.int` is a deprecated alias for the builtin `int`. To silence this warning, use `int` by itself. Doing this will not modify any behavior and is safe. When replacing `np.int`, you may wish to use e.g. `np.int64` or `np.int32` to specify the precision. If you wish to review your current use, check the release note link for additional information.\n",
      "Deprecated in NumPy 1.20; for more details and guidance: https://numpy.org/devdocs/release/1.20.0-notes.html#deprecations\n",
      "  return (np.ceil(len(self.CarMod_filenames) / float(self.batch_size))).astype(np.int)\n"
     ]
    },
    {
     "name": "stdout",
     "output_type": "stream",
     "text": [
      "Epoch 1/10\n",
      "40/40 [==============================] - 1s 17ms/step - loss: 1.5663 - val_loss: 1.5282\n",
      "Epoch 2/10\n",
      "40/40 [==============================] - 1s 14ms/step - loss: 1.5181 - val_loss: 1.5044\n",
      "Epoch 3/10\n",
      "40/40 [==============================] - 1s 14ms/step - loss: 1.5110 - val_loss: 1.4996\n",
      "Epoch 4/10\n",
      "40/40 [==============================] - 1s 14ms/step - loss: 1.5073 - val_loss: 1.4987\n",
      "Epoch 5/10\n",
      "40/40 [==============================] - 1s 14ms/step - loss: 1.5079 - val_loss: 1.4990\n",
      "Epoch 6/10\n",
      "40/40 [==============================] - 1s 14ms/step - loss: 1.5052 - val_loss: 1.4968\n",
      "Epoch 7/10\n",
      "40/40 [==============================] - 1s 14ms/step - loss: 1.5055 - val_loss: 1.4988\n",
      "Epoch 8/10\n",
      "40/40 [==============================] - 1s 14ms/step - loss: 1.5057 - val_loss: 1.4989\n",
      "Epoch 9/10\n",
      "40/40 [==============================] - 1s 14ms/step - loss: 1.5029 - val_loss: 1.4972\n",
      "Epoch 10/10\n",
      "40/40 [==============================] - 1s 14ms/step - loss: 1.5040 - val_loss: 1.4985\n"
     ]
    },
    {
     "data": {
      "text/plain": [
       "<keras.callbacks.History at 0x2157f3641c0>"
      ]
     },
     "execution_count": 64,
     "metadata": {},
     "output_type": "execute_result"
    }
   ],
   "source": [
    "NNmodel.fit_generator(generator=my_training_batch_generator,\n",
    "                   steps_per_epoch = int(len(y_train) // batch_size),\n",
    "                   epochs = 10,\n",
    "                   verbose = 1,\n",
    "                   validation_data = my_validation_batch_generator,\n",
    "                   validation_steps = int(len(y_val) // batch_size))"
   ]
  },
  {
   "cell_type": "markdown",
   "metadata": {},
   "source": [
    "## look at accuracy "
   ]
  },
  {
   "cell_type": "code",
   "execution_count": null,
   "metadata": {},
   "outputs": [],
   "source": [
    "y_train_pred_NN = np.argmax(NNmodel.predict(X_train), axis=1)\n",
    "y_test_pred_NN = np.argmax(NNmodel.predict(X_test), axis=1)\n",
    "\n",
    "print(f\"Unique values in y_train={np.unique(y_train_pred_NN)}\")\n",
    "print(f\"Unique values in y_test_pred={np.unique(y_test_pred_NN)}\")"
   ]
  }
 ],
 "metadata": {
  "kernelspec": {
   "display_name": "Python 3.9.13 ('tf-gpu')",
   "language": "python",
   "name": "python3"
  },
  "language_info": {
   "codemirror_mode": {
    "name": "ipython",
    "version": 3
   },
   "file_extension": ".py",
   "mimetype": "text/x-python",
   "name": "python",
   "nbconvert_exporter": "python",
   "pygments_lexer": "ipython3",
   "version": "3.9.13"
  },
  "orig_nbformat": 4,
  "vscode": {
   "interpreter": {
    "hash": "9901b0122a0103a0e954f0712b860e20e1581f681d96d994631537742cd9f65d"
   }
  }
 },
 "nbformat": 4,
 "nbformat_minor": 2
}
